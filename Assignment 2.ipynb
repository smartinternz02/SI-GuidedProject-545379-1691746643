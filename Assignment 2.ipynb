{
 "cells": [
  {
   "cell_type": "code",
   "execution_count": 1,
   "id": "5907362f",
   "metadata": {},
   "outputs": [],
   "source": [
    "import pandas as pd\n",
    "import numpy as np"
   ]
  },
  {
   "cell_type": "code",
   "execution_count": 2,
   "id": "a1ac32e4",
   "metadata": {},
   "outputs": [],
   "source": [
    "from sklearn.preprocessing import LabelEncoder,StandardScaler\n",
    "from sklearn.model_selection import train_test_split\n",
    "from sklearn.metrics import r2_score,mean_absolute_error,mean_squared_error\n",
    "\n",
    "from sklearn.linear_model import LinearRegression\n",
    "from sklearn.ensemble import RandomForestRegressor\n",
    "from sklearn.tree import DecisionTreeRegressor\n",
    "from sklearn.svm import SVR"
   ]
  },
  {
   "cell_type": "code",
   "execution_count": null,
   "id": "a7b72553",
   "metadata": {},
   "outputs": [],
   "source": []
  },
  {
   "cell_type": "code",
   "execution_count": 3,
   "id": "9b25aae9",
   "metadata": {},
   "outputs": [
    {
     "data": {
      "text/html": [
       "<div>\n",
       "<style scoped>\n",
       "    .dataframe tbody tr th:only-of-type {\n",
       "        vertical-align: middle;\n",
       "    }\n",
       "\n",
       "    .dataframe tbody tr th {\n",
       "        vertical-align: top;\n",
       "    }\n",
       "\n",
       "    .dataframe thead th {\n",
       "        text-align: right;\n",
       "    }\n",
       "</style>\n",
       "<table border=\"1\" class=\"dataframe\">\n",
       "  <thead>\n",
       "    <tr style=\"text-align: right;\">\n",
       "      <th></th>\n",
       "      <th>Manga series</th>\n",
       "      <th>Author(s)</th>\n",
       "      <th>Publisher</th>\n",
       "      <th>Demographic</th>\n",
       "      <th>No. of collected volumes</th>\n",
       "      <th>Serialized</th>\n",
       "      <th>Approximate sales in million(s)</th>\n",
       "      <th>Average sales per volume in million(s)</th>\n",
       "    </tr>\n",
       "  </thead>\n",
       "  <tbody>\n",
       "    <tr>\n",
       "      <th>0</th>\n",
       "      <td>One Piece</td>\n",
       "      <td>Eiichiro Oda</td>\n",
       "      <td>Shueisha</td>\n",
       "      <td>Shōnen</td>\n",
       "      <td>104</td>\n",
       "      <td>1997–present</td>\n",
       "      <td>516.6</td>\n",
       "      <td>4.97</td>\n",
       "    </tr>\n",
       "    <tr>\n",
       "      <th>1</th>\n",
       "      <td>Golgo 13</td>\n",
       "      <td>Takao Saito, Saito Production</td>\n",
       "      <td>Shogakukan</td>\n",
       "      <td>Seinen</td>\n",
       "      <td>207</td>\n",
       "      <td>1968–present</td>\n",
       "      <td>300.0</td>\n",
       "      <td>1.45</td>\n",
       "    </tr>\n",
       "    <tr>\n",
       "      <th>2</th>\n",
       "      <td>Case Closed / Detective Conan</td>\n",
       "      <td>Gosho Aoyama</td>\n",
       "      <td>Shogakukan</td>\n",
       "      <td>Shōnen</td>\n",
       "      <td>102</td>\n",
       "      <td>1994–present</td>\n",
       "      <td>270.0</td>\n",
       "      <td>2.65</td>\n",
       "    </tr>\n",
       "    <tr>\n",
       "      <th>3</th>\n",
       "      <td>Dragon Ball</td>\n",
       "      <td>Akira Toriyama</td>\n",
       "      <td>Shueisha</td>\n",
       "      <td>Shōnen</td>\n",
       "      <td>42</td>\n",
       "      <td>1984–1995</td>\n",
       "      <td>260.0</td>\n",
       "      <td>6.19</td>\n",
       "    </tr>\n",
       "    <tr>\n",
       "      <th>4</th>\n",
       "      <td>Doraemon</td>\n",
       "      <td>Fujiko F. Fujio</td>\n",
       "      <td>Shogakukan</td>\n",
       "      <td>Children</td>\n",
       "      <td>45</td>\n",
       "      <td>1969–1996</td>\n",
       "      <td>250.0</td>\n",
       "      <td>4.71</td>\n",
       "    </tr>\n",
       "  </tbody>\n",
       "</table>\n",
       "</div>"
      ],
      "text/plain": [
       "                    Manga series                      Author(s)   Publisher  \\\n",
       "0                      One Piece                   Eiichiro Oda    Shueisha   \n",
       "1                       Golgo 13  Takao Saito, Saito Production  Shogakukan   \n",
       "2  Case Closed / Detective Conan                   Gosho Aoyama  Shogakukan   \n",
       "3                    Dragon Ball                 Akira Toriyama    Shueisha   \n",
       "4                       Doraemon                Fujiko F. Fujio  Shogakukan   \n",
       "\n",
       "  Demographic  No. of collected volumes    Serialized  \\\n",
       "0      Shōnen                       104  1997–present   \n",
       "1      Seinen                       207  1968–present   \n",
       "2      Shōnen                       102  1994–present   \n",
       "3      Shōnen                        42     1984–1995   \n",
       "4    Children                        45     1969–1996   \n",
       "\n",
       "   Approximate sales in million(s)  Average sales per volume in million(s)  \n",
       "0                            516.6                                    4.97  \n",
       "1                            300.0                                    1.45  \n",
       "2                            270.0                                    2.65  \n",
       "3                            260.0                                    6.19  \n",
       "4                            250.0                                    4.71  "
      ]
     },
     "execution_count": 3,
     "metadata": {},
     "output_type": "execute_result"
    }
   ],
   "source": [
    "df = pd.read_csv('best-selling-manga.csv')\n",
    "df.head()"
   ]
  },
  {
   "cell_type": "code",
   "execution_count": 4,
   "id": "a56867c6",
   "metadata": {},
   "outputs": [
    {
     "data": {
      "text/plain": [
       "Manga series                              0\n",
       "Author(s)                                 0\n",
       "Publisher                                 0\n",
       "Demographic                               0\n",
       "No. of collected volumes                  0\n",
       "Serialized                                0\n",
       "Approximate sales in million(s)           0\n",
       "Average sales per volume in million(s)    0\n",
       "dtype: int64"
      ]
     },
     "execution_count": 4,
     "metadata": {},
     "output_type": "execute_result"
    }
   ],
   "source": [
    "df.isna().sum()"
   ]
  },
  {
   "cell_type": "code",
   "execution_count": 5,
   "id": "45f0288a",
   "metadata": {},
   "outputs": [
    {
     "data": {
      "text/plain": [
       "(187, 4)"
      ]
     },
     "execution_count": 5,
     "metadata": {},
     "output_type": "execute_result"
    }
   ],
   "source": [
    "df_main = df.copy()\n",
    "df = df_main.iloc[:,[3,4,6,7]]\n",
    "df.shape"
   ]
  },
  {
   "cell_type": "code",
   "execution_count": 6,
   "id": "760b3a36",
   "metadata": {},
   "outputs": [
    {
     "data": {
      "text/html": [
       "<div>\n",
       "<style scoped>\n",
       "    .dataframe tbody tr th:only-of-type {\n",
       "        vertical-align: middle;\n",
       "    }\n",
       "\n",
       "    .dataframe tbody tr th {\n",
       "        vertical-align: top;\n",
       "    }\n",
       "\n",
       "    .dataframe thead th {\n",
       "        text-align: right;\n",
       "    }\n",
       "</style>\n",
       "<table border=\"1\" class=\"dataframe\">\n",
       "  <thead>\n",
       "    <tr style=\"text-align: right;\">\n",
       "      <th></th>\n",
       "      <th>Demographic</th>\n",
       "      <th>No. of collected volumes</th>\n",
       "      <th>Approximate sales in million(s)</th>\n",
       "      <th>Average sales per volume in million(s)</th>\n",
       "    </tr>\n",
       "  </thead>\n",
       "  <tbody>\n",
       "    <tr>\n",
       "      <th>0</th>\n",
       "      <td>Shōnen</td>\n",
       "      <td>104</td>\n",
       "      <td>516.6</td>\n",
       "      <td>4.97</td>\n",
       "    </tr>\n",
       "    <tr>\n",
       "      <th>1</th>\n",
       "      <td>Seinen</td>\n",
       "      <td>207</td>\n",
       "      <td>300.0</td>\n",
       "      <td>1.45</td>\n",
       "    </tr>\n",
       "    <tr>\n",
       "      <th>2</th>\n",
       "      <td>Shōnen</td>\n",
       "      <td>102</td>\n",
       "      <td>270.0</td>\n",
       "      <td>2.65</td>\n",
       "    </tr>\n",
       "    <tr>\n",
       "      <th>3</th>\n",
       "      <td>Shōnen</td>\n",
       "      <td>42</td>\n",
       "      <td>260.0</td>\n",
       "      <td>6.19</td>\n",
       "    </tr>\n",
       "    <tr>\n",
       "      <th>4</th>\n",
       "      <td>Children</td>\n",
       "      <td>45</td>\n",
       "      <td>250.0</td>\n",
       "      <td>4.71</td>\n",
       "    </tr>\n",
       "  </tbody>\n",
       "</table>\n",
       "</div>"
      ],
      "text/plain": [
       "  Demographic  No. of collected volumes  Approximate sales in million(s)  \\\n",
       "0      Shōnen                       104                            516.6   \n",
       "1      Seinen                       207                            300.0   \n",
       "2      Shōnen                       102                            270.0   \n",
       "3      Shōnen                        42                            260.0   \n",
       "4    Children                        45                            250.0   \n",
       "\n",
       "   Average sales per volume in million(s)  \n",
       "0                                    4.97  \n",
       "1                                    1.45  \n",
       "2                                    2.65  \n",
       "3                                    6.19  \n",
       "4                                    4.71  "
      ]
     },
     "execution_count": 6,
     "metadata": {},
     "output_type": "execute_result"
    }
   ],
   "source": [
    "df.head()"
   ]
  },
  {
   "cell_type": "code",
   "execution_count": 7,
   "id": "e1c53574",
   "metadata": {},
   "outputs": [
    {
     "data": {
      "text/plain": [
       "Shōnen                101\n",
       "Seinen                 50\n",
       "Shōjo                  21\n",
       "Shōnen/Seinen           6\n",
       "Children                4\n",
       "Josei                   2\n",
       "—                       1\n",
       "Shōjo/Josei             1\n",
       "Shōnen/shōjo/Josei      1\n",
       "Name: Demographic, dtype: int64"
      ]
     },
     "execution_count": 7,
     "metadata": {},
     "output_type": "execute_result"
    }
   ],
   "source": [
    "df['Demographic'].value_counts()"
   ]
  },
  {
   "cell_type": "code",
   "execution_count": 8,
   "id": "6f7f1213",
   "metadata": {},
   "outputs": [
    {
     "data": {
      "text/plain": [
       "9"
      ]
     },
     "execution_count": 8,
     "metadata": {},
     "output_type": "execute_result"
    }
   ],
   "source": [
    "df['Demographic'].nunique()"
   ]
  },
  {
   "cell_type": "code",
   "execution_count": 9,
   "id": "de43b5b7",
   "metadata": {},
   "outputs": [],
   "source": [
    "label = LabelEncoder()\n",
    "label_values = label.fit_transform(df['Demographic'])"
   ]
  },
  {
   "cell_type": "code",
   "execution_count": 10,
   "id": "e2ba9788",
   "metadata": {},
   "outputs": [
    {
     "data": {
      "text/plain": [
       "187"
      ]
     },
     "execution_count": 10,
     "metadata": {},
     "output_type": "execute_result"
    }
   ],
   "source": [
    "len(label_values)"
   ]
  },
  {
   "cell_type": "code",
   "execution_count": 11,
   "id": "4beb8879",
   "metadata": {},
   "outputs": [
    {
     "data": {
      "text/plain": [
       "array([5, 2, 5, 5, 0, 5, 5, 5, 5, 2, 5, 6, 5, 5, 5, 5, 6, 5, 2, 6, 8, 5,\n",
       "       5, 5, 2, 5, 5, 5, 6, 5, 5, 5, 5, 3, 5, 5, 5, 2, 2, 5, 2, 2, 5, 5,\n",
       "       5, 5, 5, 5, 5, 5, 5, 5, 5, 3, 5, 5, 3, 5, 5, 5, 2, 2, 5, 3, 2, 5,\n",
       "       5, 5, 5, 2, 2, 3, 5, 5, 5, 1, 5, 5, 2, 2, 5, 3, 2, 5, 5, 2, 6, 3,\n",
       "       3, 5, 2, 5, 5, 2, 6, 5, 5, 3, 5, 2, 2, 2, 5, 5, 5, 3, 5, 2, 2, 2,\n",
       "       3, 1, 0, 5, 5, 4, 3, 5, 5, 2, 2, 5, 5, 5, 5, 5, 2, 5, 5, 5, 5, 2,\n",
       "       5, 5, 2, 3, 2, 2, 7, 5, 5, 5, 2, 2, 5, 5, 0, 3, 2, 3, 5, 2, 2, 3,\n",
       "       2, 5, 5, 2, 5, 0, 5, 2, 5, 2, 5, 2, 5, 5, 3, 2, 5, 5, 5, 2, 5, 2,\n",
       "       2, 5, 2, 5, 3, 2, 3, 3, 3, 2, 2])"
      ]
     },
     "execution_count": 11,
     "metadata": {},
     "output_type": "execute_result"
    }
   ],
   "source": [
    "label_values"
   ]
  },
  {
   "cell_type": "code",
   "execution_count": 12,
   "id": "ad17522f",
   "metadata": {},
   "outputs": [
    {
     "name": "stderr",
     "output_type": "stream",
     "text": [
      "C:\\Users\\bhuva\\AppData\\Local\\Temp\\ipykernel_26188\\1203605190.py:1: SettingWithCopyWarning: \n",
      "A value is trying to be set on a copy of a slice from a DataFrame.\n",
      "Try using .loc[row_indexer,col_indexer] = value instead\n",
      "\n",
      "See the caveats in the documentation: https://pandas.pydata.org/pandas-docs/stable/user_guide/indexing.html#returning-a-view-versus-a-copy\n",
      "  df['Demographic'] = label_values\n"
     ]
    }
   ],
   "source": [
    "df['Demographic'] = label_values"
   ]
  },
  {
   "cell_type": "code",
   "execution_count": 13,
   "id": "d2629610",
   "metadata": {},
   "outputs": [
    {
     "data": {
      "text/html": [
       "<div>\n",
       "<style scoped>\n",
       "    .dataframe tbody tr th:only-of-type {\n",
       "        vertical-align: middle;\n",
       "    }\n",
       "\n",
       "    .dataframe tbody tr th {\n",
       "        vertical-align: top;\n",
       "    }\n",
       "\n",
       "    .dataframe thead th {\n",
       "        text-align: right;\n",
       "    }\n",
       "</style>\n",
       "<table border=\"1\" class=\"dataframe\">\n",
       "  <thead>\n",
       "    <tr style=\"text-align: right;\">\n",
       "      <th></th>\n",
       "      <th>Demographic</th>\n",
       "      <th>No. of collected volumes</th>\n",
       "      <th>Approximate sales in million(s)</th>\n",
       "      <th>Average sales per volume in million(s)</th>\n",
       "    </tr>\n",
       "  </thead>\n",
       "  <tbody>\n",
       "    <tr>\n",
       "      <th>0</th>\n",
       "      <td>5</td>\n",
       "      <td>104</td>\n",
       "      <td>516.6</td>\n",
       "      <td>4.97</td>\n",
       "    </tr>\n",
       "    <tr>\n",
       "      <th>1</th>\n",
       "      <td>2</td>\n",
       "      <td>207</td>\n",
       "      <td>300.0</td>\n",
       "      <td>1.45</td>\n",
       "    </tr>\n",
       "    <tr>\n",
       "      <th>2</th>\n",
       "      <td>5</td>\n",
       "      <td>102</td>\n",
       "      <td>270.0</td>\n",
       "      <td>2.65</td>\n",
       "    </tr>\n",
       "    <tr>\n",
       "      <th>3</th>\n",
       "      <td>5</td>\n",
       "      <td>42</td>\n",
       "      <td>260.0</td>\n",
       "      <td>6.19</td>\n",
       "    </tr>\n",
       "    <tr>\n",
       "      <th>4</th>\n",
       "      <td>0</td>\n",
       "      <td>45</td>\n",
       "      <td>250.0</td>\n",
       "      <td>4.71</td>\n",
       "    </tr>\n",
       "  </tbody>\n",
       "</table>\n",
       "</div>"
      ],
      "text/plain": [
       "   Demographic  No. of collected volumes  Approximate sales in million(s)  \\\n",
       "0            5                       104                            516.6   \n",
       "1            2                       207                            300.0   \n",
       "2            5                       102                            270.0   \n",
       "3            5                        42                            260.0   \n",
       "4            0                        45                            250.0   \n",
       "\n",
       "   Average sales per volume in million(s)  \n",
       "0                                    4.97  \n",
       "1                                    1.45  \n",
       "2                                    2.65  \n",
       "3                                    6.19  \n",
       "4                                    4.71  "
      ]
     },
     "execution_count": 13,
     "metadata": {},
     "output_type": "execute_result"
    }
   ],
   "source": [
    "df.head()"
   ]
  },
  {
   "cell_type": "code",
   "execution_count": 15,
   "id": "9d1b7611",
   "metadata": {
    "scrolled": true
   },
   "outputs": [
    {
     "name": "stdout",
     "output_type": "stream",
     "text": [
      "<class 'pandas.core.frame.DataFrame'>\n",
      "RangeIndex: 187 entries, 0 to 186\n",
      "Data columns (total 4 columns):\n",
      " #   Column                                  Non-Null Count  Dtype  \n",
      "---  ------                                  --------------  -----  \n",
      " 0   Demographic                             187 non-null    int32  \n",
      " 1   No. of collected volumes                187 non-null    int64  \n",
      " 2   Approximate sales in million(s)         187 non-null    float64\n",
      " 3   Average sales per volume in million(s)  187 non-null    float64\n",
      "dtypes: float64(2), int32(1), int64(1)\n",
      "memory usage: 5.2 KB\n"
     ]
    }
   ],
   "source": [
    "df.info()"
   ]
  },
  {
   "cell_type": "code",
   "execution_count": 16,
   "id": "c0cf0955",
   "metadata": {},
   "outputs": [
    {
     "data": {
      "text/plain": [
       "(187, 3)"
      ]
     },
     "execution_count": 16,
     "metadata": {},
     "output_type": "execute_result"
    }
   ],
   "source": [
    "X = df.drop('Approximate sales in million(s)',axis = 1)\n",
    "y = df['Approximate sales in million(s)']\n",
    "\n",
    "X.shape"
   ]
  },
  {
   "cell_type": "code",
   "execution_count": 17,
   "id": "07013348",
   "metadata": {},
   "outputs": [
    {
     "data": {
      "text/plain": [
       "(149, 3)"
      ]
     },
     "execution_count": 17,
     "metadata": {},
     "output_type": "execute_result"
    }
   ],
   "source": [
    "x_train,x_test,y_train,y_test = train_test_split(X,y,test_size = 0.2,random_state=100)\n",
    "x_train.shape"
   ]
  },
  {
   "cell_type": "code",
   "execution_count": 18,
   "id": "88b537d1",
   "metadata": {},
   "outputs": [
    {
     "data": {
      "text/plain": [
       "(38, 3)"
      ]
     },
     "execution_count": 18,
     "metadata": {},
     "output_type": "execute_result"
    }
   ],
   "source": [
    "x_test.shape"
   ]
  },
  {
   "cell_type": "code",
   "execution_count": 19,
   "id": "07cf30ed",
   "metadata": {},
   "outputs": [
    {
     "data": {
      "text/plain": [
       "0.8082029557745214"
      ]
     },
     "execution_count": 19,
     "metadata": {},
     "output_type": "execute_result"
    }
   ],
   "source": [
    "linear_model = LinearRegression()\n",
    "linear_model.fit(x_train,y_train)\n",
    "y_pred = linear_model.predict(x_test)\n",
    "\n",
    "r2_score(y_test,y_pred)"
   ]
  },
  {
   "cell_type": "code",
   "execution_count": 20,
   "id": "4d2280fb",
   "metadata": {},
   "outputs": [
    {
     "data": {
      "text/plain": [
       "0.5753493552326294"
      ]
     },
     "execution_count": 20,
     "metadata": {},
     "output_type": "execute_result"
    }
   ],
   "source": [
    "random_model = RandomForestRegressor()\n",
    "random_model.fit(x_train,y_train)\n",
    "y_pred = random_model.predict(x_test)\n",
    "\n",
    "r2_score(y_test,y_pred)"
   ]
  },
  {
   "cell_type": "code",
   "execution_count": 21,
   "id": "98a9c976",
   "metadata": {},
   "outputs": [
    {
     "data": {
      "text/plain": [
       "0.6315606680368562"
      ]
     },
     "execution_count": 21,
     "metadata": {},
     "output_type": "execute_result"
    }
   ],
   "source": [
    "decision_model = DecisionTreeRegressor()\n",
    "decision_model.fit(x_train,y_train)\n",
    "y_pred = decision_model.predict(x_test)\n",
    "\n",
    "r2_score(y_test,y_pred)"
   ]
  },
  {
   "cell_type": "code",
   "execution_count": 22,
   "id": "bba467c3",
   "metadata": {},
   "outputs": [
    {
     "data": {
      "text/plain": [
       "-0.007227516741646234"
      ]
     },
     "execution_count": 22,
     "metadata": {},
     "output_type": "execute_result"
    }
   ],
   "source": [
    "support_model = SVR()\n",
    "support_model.fit(x_train,y_train)\n",
    "y_pred = support_model.predict(x_test)\n",
    "\n",
    "support_model.score(x_test,y_test)"
   ]
  },
  {
   "cell_type": "code",
   "execution_count": 23,
   "id": "1763fbb2",
   "metadata": {},
   "outputs": [],
   "source": [
    "model = LinearRegression()\n",
    "model.fit(x_train,y_train)\n",
    "y_pred = model.predict(x_test)"
   ]
  },
  {
   "cell_type": "code",
   "execution_count": 24,
   "id": "41547e3a",
   "metadata": {},
   "outputs": [
    {
     "data": {
      "text/plain": [
       "14.18589812530285"
      ]
     },
     "execution_count": 24,
     "metadata": {},
     "output_type": "execute_result"
    }
   ],
   "source": [
    "mean_absolute_error(y_test,y_pred)"
   ]
  },
  {
   "cell_type": "code",
   "execution_count": 25,
   "id": "cd73b380",
   "metadata": {},
   "outputs": [
    {
     "data": {
      "text/html": [
       "<div>\n",
       "<style scoped>\n",
       "    .dataframe tbody tr th:only-of-type {\n",
       "        vertical-align: middle;\n",
       "    }\n",
       "\n",
       "    .dataframe tbody tr th {\n",
       "        vertical-align: top;\n",
       "    }\n",
       "\n",
       "    .dataframe thead th {\n",
       "        text-align: right;\n",
       "    }\n",
       "</style>\n",
       "<table border=\"1\" class=\"dataframe\">\n",
       "  <thead>\n",
       "    <tr style=\"text-align: right;\">\n",
       "      <th></th>\n",
       "      <th>Demographic</th>\n",
       "      <th>No. of collected volumes</th>\n",
       "      <th>Approximate sales in million(s)</th>\n",
       "      <th>Average sales per volume in million(s)</th>\n",
       "    </tr>\n",
       "  </thead>\n",
       "  <tbody>\n",
       "    <tr>\n",
       "      <th>count</th>\n",
       "      <td>187.000000</td>\n",
       "      <td>187.000000</td>\n",
       "      <td>187.000000</td>\n",
       "      <td>187.000000</td>\n",
       "    </tr>\n",
       "    <tr>\n",
       "      <th>mean</th>\n",
       "      <td>3.877005</td>\n",
       "      <td>46.048128</td>\n",
       "      <td>50.764332</td>\n",
       "      <td>1.377380</td>\n",
       "    </tr>\n",
       "    <tr>\n",
       "      <th>std</th>\n",
       "      <td>1.555723</td>\n",
       "      <td>34.678288</td>\n",
       "      <td>57.178028</td>\n",
       "      <td>1.240013</td>\n",
       "    </tr>\n",
       "    <tr>\n",
       "      <th>min</th>\n",
       "      <td>0.000000</td>\n",
       "      <td>5.000000</td>\n",
       "      <td>20.000000</td>\n",
       "      <td>0.190000</td>\n",
       "    </tr>\n",
       "    <tr>\n",
       "      <th>25%</th>\n",
       "      <td>2.000000</td>\n",
       "      <td>23.500000</td>\n",
       "      <td>24.500000</td>\n",
       "      <td>0.670000</td>\n",
       "    </tr>\n",
       "    <tr>\n",
       "      <th>50%</th>\n",
       "      <td>5.000000</td>\n",
       "      <td>34.000000</td>\n",
       "      <td>31.000000</td>\n",
       "      <td>1.030000</td>\n",
       "    </tr>\n",
       "    <tr>\n",
       "      <th>75%</th>\n",
       "      <td>5.000000</td>\n",
       "      <td>56.500000</td>\n",
       "      <td>50.500000</td>\n",
       "      <td>1.650000</td>\n",
       "    </tr>\n",
       "    <tr>\n",
       "      <th>max</th>\n",
       "      <td>8.000000</td>\n",
       "      <td>207.000000</td>\n",
       "      <td>516.600000</td>\n",
       "      <td>10.000000</td>\n",
       "    </tr>\n",
       "  </tbody>\n",
       "</table>\n",
       "</div>"
      ],
      "text/plain": [
       "       Demographic  No. of collected volumes  Approximate sales in million(s)  \\\n",
       "count   187.000000                187.000000                       187.000000   \n",
       "mean      3.877005                 46.048128                        50.764332   \n",
       "std       1.555723                 34.678288                        57.178028   \n",
       "min       0.000000                  5.000000                        20.000000   \n",
       "25%       2.000000                 23.500000                        24.500000   \n",
       "50%       5.000000                 34.000000                        31.000000   \n",
       "75%       5.000000                 56.500000                        50.500000   \n",
       "max       8.000000                207.000000                       516.600000   \n",
       "\n",
       "       Average sales per volume in million(s)  \n",
       "count                              187.000000  \n",
       "mean                                 1.377380  \n",
       "std                                  1.240013  \n",
       "min                                  0.190000  \n",
       "25%                                  0.670000  \n",
       "50%                                  1.030000  \n",
       "75%                                  1.650000  \n",
       "max                                 10.000000  "
      ]
     },
     "execution_count": 25,
     "metadata": {},
     "output_type": "execute_result"
    }
   ],
   "source": [
    "df.describe()"
   ]
  },
  {
   "cell_type": "code",
   "execution_count": 26,
   "id": "b923c5a9",
   "metadata": {},
   "outputs": [
    {
     "data": {
      "text/html": [
       "<div>\n",
       "<style scoped>\n",
       "    .dataframe tbody tr th:only-of-type {\n",
       "        vertical-align: middle;\n",
       "    }\n",
       "\n",
       "    .dataframe tbody tr th {\n",
       "        vertical-align: top;\n",
       "    }\n",
       "\n",
       "    .dataframe thead th {\n",
       "        text-align: right;\n",
       "    }\n",
       "</style>\n",
       "<table border=\"1\" class=\"dataframe\">\n",
       "  <thead>\n",
       "    <tr style=\"text-align: right;\">\n",
       "      <th></th>\n",
       "      <th>Demographic</th>\n",
       "      <th>No. of collected volumes</th>\n",
       "      <th>Approximate sales in million(s)</th>\n",
       "      <th>Average sales per volume in million(s)</th>\n",
       "    </tr>\n",
       "  </thead>\n",
       "  <tbody>\n",
       "    <tr>\n",
       "      <th>Demographic</th>\n",
       "      <td>1.000000</td>\n",
       "      <td>-0.056593</td>\n",
       "      <td>0.135103</td>\n",
       "      <td>0.175298</td>\n",
       "    </tr>\n",
       "    <tr>\n",
       "      <th>No. of collected volumes</th>\n",
       "      <td>-0.056593</td>\n",
       "      <td>1.000000</td>\n",
       "      <td>0.385699</td>\n",
       "      <td>-0.300739</td>\n",
       "    </tr>\n",
       "    <tr>\n",
       "      <th>Approximate sales in million(s)</th>\n",
       "      <td>0.135103</td>\n",
       "      <td>0.385699</td>\n",
       "      <td>1.000000</td>\n",
       "      <td>0.523410</td>\n",
       "    </tr>\n",
       "    <tr>\n",
       "      <th>Average sales per volume in million(s)</th>\n",
       "      <td>0.175298</td>\n",
       "      <td>-0.300739</td>\n",
       "      <td>0.523410</td>\n",
       "      <td>1.000000</td>\n",
       "    </tr>\n",
       "  </tbody>\n",
       "</table>\n",
       "</div>"
      ],
      "text/plain": [
       "                                        Demographic  No. of collected volumes  \\\n",
       "Demographic                                1.000000                 -0.056593   \n",
       "No. of collected volumes                  -0.056593                  1.000000   \n",
       "Approximate sales in million(s)            0.135103                  0.385699   \n",
       "Average sales per volume in million(s)     0.175298                 -0.300739   \n",
       "\n",
       "                                        Approximate sales in million(s)  \\\n",
       "Demographic                                                    0.135103   \n",
       "No. of collected volumes                                       0.385699   \n",
       "Approximate sales in million(s)                                1.000000   \n",
       "Average sales per volume in million(s)                         0.523410   \n",
       "\n",
       "                                        Average sales per volume in million(s)  \n",
       "Demographic                                                           0.175298  \n",
       "No. of collected volumes                                             -0.300739  \n",
       "Approximate sales in million(s)                                       0.523410  \n",
       "Average sales per volume in million(s)                                1.000000  "
      ]
     },
     "execution_count": 26,
     "metadata": {},
     "output_type": "execute_result"
    }
   ],
   "source": [
    "df.corr()"
   ]
  },
  {
   "cell_type": "code",
   "execution_count": 27,
   "id": "aedb746a",
   "metadata": {},
   "outputs": [
    {
     "data": {
      "text/plain": [
       "0.8082029557745214"
      ]
     },
     "execution_count": 27,
     "metadata": {},
     "output_type": "execute_result"
    }
   ],
   "source": [
    "model.score(x_test,y_test)"
   ]
  },
  {
   "cell_type": "code",
   "execution_count": 28,
   "id": "282ee5f7",
   "metadata": {},
   "outputs": [
    {
     "data": {
      "text/plain": [
       "0.8082029557745214"
      ]
     },
     "execution_count": 28,
     "metadata": {},
     "output_type": "execute_result"
    }
   ],
   "source": [
    "r2_score(y_test,y_pred)"
   ]
  },
  {
   "cell_type": "code",
   "execution_count": 29,
   "id": "ba1b9b99",
   "metadata": {},
   "outputs": [],
   "source": [
    "#Therefore, Linear Regression is the best model for the given dataset"
   ]
  },
  {
   "cell_type": "code",
   "execution_count": null,
   "id": "b7339b3a",
   "metadata": {},
   "outputs": [],
   "source": []
  }
 ],
 "metadata": {
  "kernelspec": {
   "display_name": "Python 3 (ipykernel)",
   "language": "python",
   "name": "python3"
  },
  "language_info": {
   "codemirror_mode": {
    "name": "ipython",
    "version": 3
   },
   "file_extension": ".py",
   "mimetype": "text/x-python",
   "name": "python",
   "nbconvert_exporter": "python",
   "pygments_lexer": "ipython3",
   "version": "3.10.2"
  }
 },
 "nbformat": 4,
 "nbformat_minor": 5
}
